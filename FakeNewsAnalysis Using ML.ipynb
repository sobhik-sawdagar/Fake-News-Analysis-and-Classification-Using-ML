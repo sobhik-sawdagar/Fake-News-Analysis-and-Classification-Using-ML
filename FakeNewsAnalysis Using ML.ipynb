{
 "cells": [
  {
   "cell_type": "code",
   "execution_count": 110,
   "id": "54efe4c7",
   "metadata": {},
   "outputs": [],
   "source": [
    "import pandas as pd\n",
    "import numpy as np\n",
    "import matplotlib.pyplot as plt\n",
    "from sklearn.feature_extraction.text import CountVectorizer\n",
    "from sklearn.feature_extraction.text import TfidfTransformer\n",
    "from sklearn import feature_extraction, model_selection, preprocessing\n",
    "from sklearn.metrics import accuracy_score\n",
    "from sklearn.metrics import confusion_matrix\n",
    "from sklearn.metrics import plot_confusion_matrix\n",
    "from sklearn.metrics import ConfusionMatrixDisplay\n",
    "from sklearn.metrics import classification_report\n",
    "from sklearn.model_selection import train_test_split\n",
    "from sklearn.pipeline import Pipeline\n",
    "import string\n",
    "import nltk"
   ]
  },
  {
   "cell_type": "code",
   "execution_count": 111,
   "id": "d567d8e8",
   "metadata": {},
   "outputs": [],
   "source": [
    "Dfake = pd.read_csv('Fake.csv')\n",
    "Dtrue = pd.read_csv('True.csv')"
   ]
  },
  {
   "cell_type": "code",
   "execution_count": 112,
   "id": "4af909f9",
   "metadata": {},
   "outputs": [
    {
     "data": {
      "text/plain": [
       "((23481, 4), (21417, 4))"
      ]
     },
     "execution_count": 112,
     "metadata": {},
     "output_type": "execute_result"
    }
   ],
   "source": [
    "Dfake.shape, Dtrue.shape"
   ]
  },
  {
   "cell_type": "code",
   "execution_count": 113,
   "id": "d986889e",
   "metadata": {},
   "outputs": [],
   "source": [
    "Dfake['Class'] = 'fakeData'\n",
    "Dtrue['Class'] = 'trueData'"
   ]
  },
  {
   "cell_type": "code",
   "execution_count": 114,
   "id": "dba46024",
   "metadata": {},
   "outputs": [
    {
     "data": {
      "text/plain": [
       "(44898, 5)"
      ]
     },
     "execution_count": 114,
     "metadata": {},
     "output_type": "execute_result"
    }
   ],
   "source": [
    "dataset_1 = pd.concat([Dfake,Dtrue]).reset_index(drop = True)\n",
    "dataset_1.shape"
   ]
  },
  {
   "cell_type": "code",
   "execution_count": 115,
   "id": "20b2fdd3",
   "metadata": {},
   "outputs": [
    {
     "data": {
      "text/html": [
       "<div>\n",
       "<style scoped>\n",
       "    .dataframe tbody tr th:only-of-type {\n",
       "        vertical-align: middle;\n",
       "    }\n",
       "\n",
       "    .dataframe tbody tr th {\n",
       "        vertical-align: top;\n",
       "    }\n",
       "\n",
       "    .dataframe thead th {\n",
       "        text-align: right;\n",
       "    }\n",
       "</style>\n",
       "<table border=\"1\" class=\"dataframe\">\n",
       "  <thead>\n",
       "    <tr style=\"text-align: right;\">\n",
       "      <th></th>\n",
       "      <th>title</th>\n",
       "      <th>text</th>\n",
       "      <th>subject</th>\n",
       "      <th>date</th>\n",
       "      <th>Class</th>\n",
       "    </tr>\n",
       "  </thead>\n",
       "  <tbody>\n",
       "    <tr>\n",
       "      <th>0</th>\n",
       "      <td>Donald Trump Sends Out Embarrassing New Year’...</td>\n",
       "      <td>Donald Trump just couldn t wish all Americans ...</td>\n",
       "      <td>News</td>\n",
       "      <td>December 31, 2017</td>\n",
       "      <td>fakeData</td>\n",
       "    </tr>\n",
       "    <tr>\n",
       "      <th>1</th>\n",
       "      <td>Drunk Bragging Trump Staffer Started Russian ...</td>\n",
       "      <td>House Intelligence Committee Chairman Devin Nu...</td>\n",
       "      <td>News</td>\n",
       "      <td>December 31, 2017</td>\n",
       "      <td>fakeData</td>\n",
       "    </tr>\n",
       "    <tr>\n",
       "      <th>2</th>\n",
       "      <td>Sheriff David Clarke Becomes An Internet Joke...</td>\n",
       "      <td>On Friday, it was revealed that former Milwauk...</td>\n",
       "      <td>News</td>\n",
       "      <td>December 30, 2017</td>\n",
       "      <td>fakeData</td>\n",
       "    </tr>\n",
       "    <tr>\n",
       "      <th>3</th>\n",
       "      <td>Trump Is So Obsessed He Even Has Obama’s Name...</td>\n",
       "      <td>On Christmas day, Donald Trump announced that ...</td>\n",
       "      <td>News</td>\n",
       "      <td>December 29, 2017</td>\n",
       "      <td>fakeData</td>\n",
       "    </tr>\n",
       "    <tr>\n",
       "      <th>4</th>\n",
       "      <td>Pope Francis Just Called Out Donald Trump Dur...</td>\n",
       "      <td>Pope Francis used his annual Christmas Day mes...</td>\n",
       "      <td>News</td>\n",
       "      <td>December 25, 2017</td>\n",
       "      <td>fakeData</td>\n",
       "    </tr>\n",
       "    <tr>\n",
       "      <th>5</th>\n",
       "      <td>Racist Alabama Cops Brutalize Black Boy While...</td>\n",
       "      <td>The number of cases of cops brutalizing and ki...</td>\n",
       "      <td>News</td>\n",
       "      <td>December 25, 2017</td>\n",
       "      <td>fakeData</td>\n",
       "    </tr>\n",
       "    <tr>\n",
       "      <th>6</th>\n",
       "      <td>Fresh Off The Golf Course, Trump Lashes Out A...</td>\n",
       "      <td>Donald Trump spent a good portion of his day a...</td>\n",
       "      <td>News</td>\n",
       "      <td>December 23, 2017</td>\n",
       "      <td>fakeData</td>\n",
       "    </tr>\n",
       "    <tr>\n",
       "      <th>7</th>\n",
       "      <td>Trump Said Some INSANELY Racist Stuff Inside ...</td>\n",
       "      <td>In the wake of yet another court decision that...</td>\n",
       "      <td>News</td>\n",
       "      <td>December 23, 2017</td>\n",
       "      <td>fakeData</td>\n",
       "    </tr>\n",
       "    <tr>\n",
       "      <th>8</th>\n",
       "      <td>Former CIA Director Slams Trump Over UN Bully...</td>\n",
       "      <td>Many people have raised the alarm regarding th...</td>\n",
       "      <td>News</td>\n",
       "      <td>December 22, 2017</td>\n",
       "      <td>fakeData</td>\n",
       "    </tr>\n",
       "    <tr>\n",
       "      <th>9</th>\n",
       "      <td>WATCH: Brand-New Pro-Trump Ad Features So Muc...</td>\n",
       "      <td>Just when you might have thought we d get a br...</td>\n",
       "      <td>News</td>\n",
       "      <td>December 21, 2017</td>\n",
       "      <td>fakeData</td>\n",
       "    </tr>\n",
       "    <tr>\n",
       "      <th>10</th>\n",
       "      <td>Papa John’s Founder Retires, Figures Out Raci...</td>\n",
       "      <td>A centerpiece of Donald Trump s campaign, and ...</td>\n",
       "      <td>News</td>\n",
       "      <td>December 21, 2017</td>\n",
       "      <td>fakeData</td>\n",
       "    </tr>\n",
       "    <tr>\n",
       "      <th>11</th>\n",
       "      <td>WATCH: Paul Ryan Just Told Us He Doesn’t Care...</td>\n",
       "      <td>Republicans are working overtime trying to sel...</td>\n",
       "      <td>News</td>\n",
       "      <td>December 21, 2017</td>\n",
       "      <td>fakeData</td>\n",
       "    </tr>\n",
       "    <tr>\n",
       "      <th>12</th>\n",
       "      <td>Bad News For Trump — Mitch McConnell Says No ...</td>\n",
       "      <td>Republicans have had seven years to come up wi...</td>\n",
       "      <td>News</td>\n",
       "      <td>December 21, 2017</td>\n",
       "      <td>fakeData</td>\n",
       "    </tr>\n",
       "    <tr>\n",
       "      <th>13</th>\n",
       "      <td>WATCH: Lindsey Graham Trashes Media For Portr...</td>\n",
       "      <td>The media has been talking all day about Trump...</td>\n",
       "      <td>News</td>\n",
       "      <td>December 20, 2017</td>\n",
       "      <td>fakeData</td>\n",
       "    </tr>\n",
       "    <tr>\n",
       "      <th>14</th>\n",
       "      <td>Heiress To Disney Empire Knows GOP Scammed Us...</td>\n",
       "      <td>Abigail Disney is an heiress with brass ovarie...</td>\n",
       "      <td>News</td>\n",
       "      <td>December 20, 2017</td>\n",
       "      <td>fakeData</td>\n",
       "    </tr>\n",
       "  </tbody>\n",
       "</table>\n",
       "</div>"
      ],
      "text/plain": [
       "                                                title  \\\n",
       "0    Donald Trump Sends Out Embarrassing New Year’...   \n",
       "1    Drunk Bragging Trump Staffer Started Russian ...   \n",
       "2    Sheriff David Clarke Becomes An Internet Joke...   \n",
       "3    Trump Is So Obsessed He Even Has Obama’s Name...   \n",
       "4    Pope Francis Just Called Out Donald Trump Dur...   \n",
       "5    Racist Alabama Cops Brutalize Black Boy While...   \n",
       "6    Fresh Off The Golf Course, Trump Lashes Out A...   \n",
       "7    Trump Said Some INSANELY Racist Stuff Inside ...   \n",
       "8    Former CIA Director Slams Trump Over UN Bully...   \n",
       "9    WATCH: Brand-New Pro-Trump Ad Features So Muc...   \n",
       "10   Papa John’s Founder Retires, Figures Out Raci...   \n",
       "11   WATCH: Paul Ryan Just Told Us He Doesn’t Care...   \n",
       "12   Bad News For Trump — Mitch McConnell Says No ...   \n",
       "13   WATCH: Lindsey Graham Trashes Media For Portr...   \n",
       "14   Heiress To Disney Empire Knows GOP Scammed Us...   \n",
       "\n",
       "                                                 text subject  \\\n",
       "0   Donald Trump just couldn t wish all Americans ...    News   \n",
       "1   House Intelligence Committee Chairman Devin Nu...    News   \n",
       "2   On Friday, it was revealed that former Milwauk...    News   \n",
       "3   On Christmas day, Donald Trump announced that ...    News   \n",
       "4   Pope Francis used his annual Christmas Day mes...    News   \n",
       "5   The number of cases of cops brutalizing and ki...    News   \n",
       "6   Donald Trump spent a good portion of his day a...    News   \n",
       "7   In the wake of yet another court decision that...    News   \n",
       "8   Many people have raised the alarm regarding th...    News   \n",
       "9   Just when you might have thought we d get a br...    News   \n",
       "10  A centerpiece of Donald Trump s campaign, and ...    News   \n",
       "11  Republicans are working overtime trying to sel...    News   \n",
       "12  Republicans have had seven years to come up wi...    News   \n",
       "13  The media has been talking all day about Trump...    News   \n",
       "14  Abigail Disney is an heiress with brass ovarie...    News   \n",
       "\n",
       "                 date     Class  \n",
       "0   December 31, 2017  fakeData  \n",
       "1   December 31, 2017  fakeData  \n",
       "2   December 30, 2017  fakeData  \n",
       "3   December 29, 2017  fakeData  \n",
       "4   December 25, 2017  fakeData  \n",
       "5   December 25, 2017  fakeData  \n",
       "6   December 23, 2017  fakeData  \n",
       "7   December 23, 2017  fakeData  \n",
       "8   December 22, 2017  fakeData  \n",
       "9   December 21, 2017  fakeData  \n",
       "10  December 21, 2017  fakeData  \n",
       "11  December 21, 2017  fakeData  \n",
       "12  December 21, 2017  fakeData  \n",
       "13  December 20, 2017  fakeData  \n",
       "14  December 20, 2017  fakeData  "
      ]
     },
     "execution_count": 115,
     "metadata": {},
     "output_type": "execute_result"
    }
   ],
   "source": [
    "dataset_1.head(15)"
   ]
  },
  {
   "cell_type": "code",
   "execution_count": 116,
   "id": "ca10f348",
   "metadata": {},
   "outputs": [
    {
     "data": {
      "text/html": [
       "<div>\n",
       "<style scoped>\n",
       "    .dataframe tbody tr th:only-of-type {\n",
       "        vertical-align: middle;\n",
       "    }\n",
       "\n",
       "    .dataframe tbody tr th {\n",
       "        vertical-align: top;\n",
       "    }\n",
       "\n",
       "    .dataframe thead th {\n",
       "        text-align: right;\n",
       "    }\n",
       "</style>\n",
       "<table border=\"1\" class=\"dataframe\">\n",
       "  <thead>\n",
       "    <tr style=\"text-align: right;\">\n",
       "      <th></th>\n",
       "      <th>title</th>\n",
       "      <th>text</th>\n",
       "      <th>subject</th>\n",
       "      <th>Class</th>\n",
       "    </tr>\n",
       "  </thead>\n",
       "  <tbody>\n",
       "    <tr>\n",
       "      <th>0</th>\n",
       "      <td>Donald Trump Sends Out Embarrassing New Year’...</td>\n",
       "      <td>Donald Trump just couldn t wish all Americans ...</td>\n",
       "      <td>News</td>\n",
       "      <td>fakeData</td>\n",
       "    </tr>\n",
       "    <tr>\n",
       "      <th>1</th>\n",
       "      <td>Drunk Bragging Trump Staffer Started Russian ...</td>\n",
       "      <td>House Intelligence Committee Chairman Devin Nu...</td>\n",
       "      <td>News</td>\n",
       "      <td>fakeData</td>\n",
       "    </tr>\n",
       "    <tr>\n",
       "      <th>2</th>\n",
       "      <td>Sheriff David Clarke Becomes An Internet Joke...</td>\n",
       "      <td>On Friday, it was revealed that former Milwauk...</td>\n",
       "      <td>News</td>\n",
       "      <td>fakeData</td>\n",
       "    </tr>\n",
       "    <tr>\n",
       "      <th>3</th>\n",
       "      <td>Trump Is So Obsessed He Even Has Obama’s Name...</td>\n",
       "      <td>On Christmas day, Donald Trump announced that ...</td>\n",
       "      <td>News</td>\n",
       "      <td>fakeData</td>\n",
       "    </tr>\n",
       "    <tr>\n",
       "      <th>4</th>\n",
       "      <td>Pope Francis Just Called Out Donald Trump Dur...</td>\n",
       "      <td>Pope Francis used his annual Christmas Day mes...</td>\n",
       "      <td>News</td>\n",
       "      <td>fakeData</td>\n",
       "    </tr>\n",
       "  </tbody>\n",
       "</table>\n",
       "</div>"
      ],
      "text/plain": [
       "                                               title  \\\n",
       "0   Donald Trump Sends Out Embarrassing New Year’...   \n",
       "1   Drunk Bragging Trump Staffer Started Russian ...   \n",
       "2   Sheriff David Clarke Becomes An Internet Joke...   \n",
       "3   Trump Is So Obsessed He Even Has Obama’s Name...   \n",
       "4   Pope Francis Just Called Out Donald Trump Dur...   \n",
       "\n",
       "                                                text subject     Class  \n",
       "0  Donald Trump just couldn t wish all Americans ...    News  fakeData  \n",
       "1  House Intelligence Committee Chairman Devin Nu...    News  fakeData  \n",
       "2  On Friday, it was revealed that former Milwauk...    News  fakeData  \n",
       "3  On Christmas day, Donald Trump announced that ...    News  fakeData  \n",
       "4  Pope Francis used his annual Christmas Day mes...    News  fakeData  "
      ]
     },
     "execution_count": 116,
     "metadata": {},
     "output_type": "execute_result"
    }
   ],
   "source": [
    "dataset_1.drop(['date'], axis = 1, inplace = True)\n",
    "dataset_1.head()"
   ]
  },
  {
   "cell_type": "code",
   "execution_count": 117,
   "id": "ea7fe35d",
   "metadata": {},
   "outputs": [
    {
     "data": {
      "text/html": [
       "<div>\n",
       "<style scoped>\n",
       "    .dataframe tbody tr th:only-of-type {\n",
       "        vertical-align: middle;\n",
       "    }\n",
       "\n",
       "    .dataframe tbody tr th {\n",
       "        vertical-align: top;\n",
       "    }\n",
       "\n",
       "    .dataframe thead th {\n",
       "        text-align: right;\n",
       "    }\n",
       "</style>\n",
       "<table border=\"1\" class=\"dataframe\">\n",
       "  <thead>\n",
       "    <tr style=\"text-align: right;\">\n",
       "      <th></th>\n",
       "      <th>text</th>\n",
       "      <th>subject</th>\n",
       "      <th>Class</th>\n",
       "    </tr>\n",
       "  </thead>\n",
       "  <tbody>\n",
       "    <tr>\n",
       "      <th>0</th>\n",
       "      <td>Donald Trump just couldn t wish all Americans ...</td>\n",
       "      <td>News</td>\n",
       "      <td>fakeData</td>\n",
       "    </tr>\n",
       "    <tr>\n",
       "      <th>1</th>\n",
       "      <td>House Intelligence Committee Chairman Devin Nu...</td>\n",
       "      <td>News</td>\n",
       "      <td>fakeData</td>\n",
       "    </tr>\n",
       "    <tr>\n",
       "      <th>2</th>\n",
       "      <td>On Friday, it was revealed that former Milwauk...</td>\n",
       "      <td>News</td>\n",
       "      <td>fakeData</td>\n",
       "    </tr>\n",
       "    <tr>\n",
       "      <th>3</th>\n",
       "      <td>On Christmas day, Donald Trump announced that ...</td>\n",
       "      <td>News</td>\n",
       "      <td>fakeData</td>\n",
       "    </tr>\n",
       "    <tr>\n",
       "      <th>4</th>\n",
       "      <td>Pope Francis used his annual Christmas Day mes...</td>\n",
       "      <td>News</td>\n",
       "      <td>fakeData</td>\n",
       "    </tr>\n",
       "  </tbody>\n",
       "</table>\n",
       "</div>"
      ],
      "text/plain": [
       "                                                text subject     Class\n",
       "0  Donald Trump just couldn t wish all Americans ...    News  fakeData\n",
       "1  House Intelligence Committee Chairman Devin Nu...    News  fakeData\n",
       "2  On Friday, it was revealed that former Milwauk...    News  fakeData\n",
       "3  On Christmas day, Donald Trump announced that ...    News  fakeData\n",
       "4  Pope Francis used his annual Christmas Day mes...    News  fakeData"
      ]
     },
     "execution_count": 117,
     "metadata": {},
     "output_type": "execute_result"
    }
   ],
   "source": [
    "dataset_1.drop(['title'], axis = 1, inplace = True)\n",
    "dataset_1.head()"
   ]
  },
  {
   "cell_type": "code",
   "execution_count": 118,
   "id": "b80caeca",
   "metadata": {},
   "outputs": [
    {
     "data": {
      "text/html": [
       "<div>\n",
       "<style scoped>\n",
       "    .dataframe tbody tr th:only-of-type {\n",
       "        vertical-align: middle;\n",
       "    }\n",
       "\n",
       "    .dataframe tbody tr th {\n",
       "        vertical-align: top;\n",
       "    }\n",
       "\n",
       "    .dataframe thead th {\n",
       "        text-align: right;\n",
       "    }\n",
       "</style>\n",
       "<table border=\"1\" class=\"dataframe\">\n",
       "  <thead>\n",
       "    <tr style=\"text-align: right;\">\n",
       "      <th></th>\n",
       "      <th>text</th>\n",
       "      <th>Class</th>\n",
       "    </tr>\n",
       "  </thead>\n",
       "  <tbody>\n",
       "    <tr>\n",
       "      <th>0</th>\n",
       "      <td>Donald Trump just couldn t wish all Americans ...</td>\n",
       "      <td>fakeData</td>\n",
       "    </tr>\n",
       "    <tr>\n",
       "      <th>1</th>\n",
       "      <td>House Intelligence Committee Chairman Devin Nu...</td>\n",
       "      <td>fakeData</td>\n",
       "    </tr>\n",
       "    <tr>\n",
       "      <th>2</th>\n",
       "      <td>On Friday, it was revealed that former Milwauk...</td>\n",
       "      <td>fakeData</td>\n",
       "    </tr>\n",
       "    <tr>\n",
       "      <th>3</th>\n",
       "      <td>On Christmas day, Donald Trump announced that ...</td>\n",
       "      <td>fakeData</td>\n",
       "    </tr>\n",
       "    <tr>\n",
       "      <th>4</th>\n",
       "      <td>Pope Francis used his annual Christmas Day mes...</td>\n",
       "      <td>fakeData</td>\n",
       "    </tr>\n",
       "  </tbody>\n",
       "</table>\n",
       "</div>"
      ],
      "text/plain": [
       "                                                text     Class\n",
       "0  Donald Trump just couldn t wish all Americans ...  fakeData\n",
       "1  House Intelligence Committee Chairman Devin Nu...  fakeData\n",
       "2  On Friday, it was revealed that former Milwauk...  fakeData\n",
       "3  On Christmas day, Donald Trump announced that ...  fakeData\n",
       "4  Pope Francis used his annual Christmas Day mes...  fakeData"
      ]
     },
     "execution_count": 118,
     "metadata": {},
     "output_type": "execute_result"
    }
   ],
   "source": [
    "dataset_1.drop(['subject'], axis = 1, inplace = True)\n",
    "dataset_1.head()"
   ]
  },
  {
   "cell_type": "code",
   "execution_count": 119,
   "id": "b307ff50",
   "metadata": {},
   "outputs": [],
   "source": [
    "dataset_2 = pd.read_csv('train.csv')"
   ]
  },
  {
   "cell_type": "code",
   "execution_count": 120,
   "id": "ea83a483",
   "metadata": {},
   "outputs": [
    {
     "data": {
      "text/plain": [
       "(20800, 5)"
      ]
     },
     "execution_count": 120,
     "metadata": {},
     "output_type": "execute_result"
    }
   ],
   "source": [
    "dataset_2.shape"
   ]
  },
  {
   "cell_type": "code",
   "execution_count": 121,
   "id": "a7cb7c78",
   "metadata": {
    "scrolled": true
   },
   "outputs": [
    {
     "data": {
      "text/html": [
       "<div>\n",
       "<style scoped>\n",
       "    .dataframe tbody tr th:only-of-type {\n",
       "        vertical-align: middle;\n",
       "    }\n",
       "\n",
       "    .dataframe tbody tr th {\n",
       "        vertical-align: top;\n",
       "    }\n",
       "\n",
       "    .dataframe thead th {\n",
       "        text-align: right;\n",
       "    }\n",
       "</style>\n",
       "<table border=\"1\" class=\"dataframe\">\n",
       "  <thead>\n",
       "    <tr style=\"text-align: right;\">\n",
       "      <th></th>\n",
       "      <th>id</th>\n",
       "      <th>title</th>\n",
       "      <th>author</th>\n",
       "      <th>text</th>\n",
       "      <th>Class</th>\n",
       "    </tr>\n",
       "  </thead>\n",
       "  <tbody>\n",
       "    <tr>\n",
       "      <th>0</th>\n",
       "      <td>0</td>\n",
       "      <td>House Dem Aide: We Didn’t Even See Comey’s Let...</td>\n",
       "      <td>Darrell Lucus</td>\n",
       "      <td>House Dem Aide: We Didn’t Even See Comey’s Let...</td>\n",
       "      <td>1</td>\n",
       "    </tr>\n",
       "    <tr>\n",
       "      <th>1</th>\n",
       "      <td>1</td>\n",
       "      <td>FLYNN: Hillary Clinton, Big Woman on Campus - ...</td>\n",
       "      <td>Daniel J. Flynn</td>\n",
       "      <td>Ever get the feeling your life circles the rou...</td>\n",
       "      <td>0</td>\n",
       "    </tr>\n",
       "    <tr>\n",
       "      <th>2</th>\n",
       "      <td>2</td>\n",
       "      <td>Why the Truth Might Get You Fired</td>\n",
       "      <td>Consortiumnews.com</td>\n",
       "      <td>Why the Truth Might Get You Fired October 29, ...</td>\n",
       "      <td>1</td>\n",
       "    </tr>\n",
       "    <tr>\n",
       "      <th>3</th>\n",
       "      <td>3</td>\n",
       "      <td>15 Civilians Killed In Single US Airstrike Hav...</td>\n",
       "      <td>Jessica Purkiss</td>\n",
       "      <td>Videos 15 Civilians Killed In Single US Airstr...</td>\n",
       "      <td>1</td>\n",
       "    </tr>\n",
       "    <tr>\n",
       "      <th>4</th>\n",
       "      <td>4</td>\n",
       "      <td>Iranian woman jailed for fictional unpublished...</td>\n",
       "      <td>Howard Portnoy</td>\n",
       "      <td>Print \\nAn Iranian woman has been sentenced to...</td>\n",
       "      <td>1</td>\n",
       "    </tr>\n",
       "  </tbody>\n",
       "</table>\n",
       "</div>"
      ],
      "text/plain": [
       "   id                                              title              author  \\\n",
       "0   0  House Dem Aide: We Didn’t Even See Comey’s Let...       Darrell Lucus   \n",
       "1   1  FLYNN: Hillary Clinton, Big Woman on Campus - ...     Daniel J. Flynn   \n",
       "2   2                  Why the Truth Might Get You Fired  Consortiumnews.com   \n",
       "3   3  15 Civilians Killed In Single US Airstrike Hav...     Jessica Purkiss   \n",
       "4   4  Iranian woman jailed for fictional unpublished...      Howard Portnoy   \n",
       "\n",
       "                                                text  Class  \n",
       "0  House Dem Aide: We Didn’t Even See Comey’s Let...      1  \n",
       "1  Ever get the feeling your life circles the rou...      0  \n",
       "2  Why the Truth Might Get You Fired October 29, ...      1  \n",
       "3  Videos 15 Civilians Killed In Single US Airstr...      1  \n",
       "4  Print \\nAn Iranian woman has been sentenced to...      1  "
      ]
     },
     "execution_count": 121,
     "metadata": {},
     "output_type": "execute_result"
    }
   ],
   "source": [
    "dataset_2.rename(columns = {'label':'Class'}, inplace = True)\n",
    "dataset_2.head()"
   ]
  },
  {
   "cell_type": "code",
   "execution_count": 122,
   "id": "f948733b",
   "metadata": {},
   "outputs": [],
   "source": [
    "dataset_2['Class'] = dataset_2['Class'].replace([1 , 0], ['trueData', 'fakeData'])"
   ]
  },
  {
   "cell_type": "code",
   "execution_count": 123,
   "id": "4f5aa4e2",
   "metadata": {},
   "outputs": [
    {
     "data": {
      "text/html": [
       "<div>\n",
       "<style scoped>\n",
       "    .dataframe tbody tr th:only-of-type {\n",
       "        vertical-align: middle;\n",
       "    }\n",
       "\n",
       "    .dataframe tbody tr th {\n",
       "        vertical-align: top;\n",
       "    }\n",
       "\n",
       "    .dataframe thead th {\n",
       "        text-align: right;\n",
       "    }\n",
       "</style>\n",
       "<table border=\"1\" class=\"dataframe\">\n",
       "  <thead>\n",
       "    <tr style=\"text-align: right;\">\n",
       "      <th></th>\n",
       "      <th>id</th>\n",
       "      <th>title</th>\n",
       "      <th>author</th>\n",
       "      <th>text</th>\n",
       "      <th>Class</th>\n",
       "    </tr>\n",
       "  </thead>\n",
       "  <tbody>\n",
       "    <tr>\n",
       "      <th>0</th>\n",
       "      <td>0</td>\n",
       "      <td>House Dem Aide: We Didn’t Even See Comey’s Let...</td>\n",
       "      <td>Darrell Lucus</td>\n",
       "      <td>House Dem Aide: We Didn’t Even See Comey’s Let...</td>\n",
       "      <td>trueData</td>\n",
       "    </tr>\n",
       "    <tr>\n",
       "      <th>1</th>\n",
       "      <td>1</td>\n",
       "      <td>FLYNN: Hillary Clinton, Big Woman on Campus - ...</td>\n",
       "      <td>Daniel J. Flynn</td>\n",
       "      <td>Ever get the feeling your life circles the rou...</td>\n",
       "      <td>fakeData</td>\n",
       "    </tr>\n",
       "    <tr>\n",
       "      <th>2</th>\n",
       "      <td>2</td>\n",
       "      <td>Why the Truth Might Get You Fired</td>\n",
       "      <td>Consortiumnews.com</td>\n",
       "      <td>Why the Truth Might Get You Fired October 29, ...</td>\n",
       "      <td>trueData</td>\n",
       "    </tr>\n",
       "    <tr>\n",
       "      <th>3</th>\n",
       "      <td>3</td>\n",
       "      <td>15 Civilians Killed In Single US Airstrike Hav...</td>\n",
       "      <td>Jessica Purkiss</td>\n",
       "      <td>Videos 15 Civilians Killed In Single US Airstr...</td>\n",
       "      <td>trueData</td>\n",
       "    </tr>\n",
       "    <tr>\n",
       "      <th>4</th>\n",
       "      <td>4</td>\n",
       "      <td>Iranian woman jailed for fictional unpublished...</td>\n",
       "      <td>Howard Portnoy</td>\n",
       "      <td>Print \\nAn Iranian woman has been sentenced to...</td>\n",
       "      <td>trueData</td>\n",
       "    </tr>\n",
       "    <tr>\n",
       "      <th>5</th>\n",
       "      <td>5</td>\n",
       "      <td>Jackie Mason: Hollywood Would Love Trump if He...</td>\n",
       "      <td>Daniel Nussbaum</td>\n",
       "      <td>In these trying times, Jackie Mason is the Voi...</td>\n",
       "      <td>fakeData</td>\n",
       "    </tr>\n",
       "    <tr>\n",
       "      <th>6</th>\n",
       "      <td>6</td>\n",
       "      <td>Life: Life Of Luxury: Elton John’s 6 Favorite ...</td>\n",
       "      <td>NaN</td>\n",
       "      <td>Ever wonder how Britain’s most iconic pop pian...</td>\n",
       "      <td>trueData</td>\n",
       "    </tr>\n",
       "    <tr>\n",
       "      <th>7</th>\n",
       "      <td>7</td>\n",
       "      <td>Benoît Hamon Wins French Socialist Party’s Pre...</td>\n",
       "      <td>Alissa J. Rubin</td>\n",
       "      <td>PARIS  —   France chose an idealistic, traditi...</td>\n",
       "      <td>fakeData</td>\n",
       "    </tr>\n",
       "    <tr>\n",
       "      <th>8</th>\n",
       "      <td>8</td>\n",
       "      <td>Excerpts From a Draft Script for Donald Trump’...</td>\n",
       "      <td>NaN</td>\n",
       "      <td>Donald J. Trump is scheduled to make a highly ...</td>\n",
       "      <td>fakeData</td>\n",
       "    </tr>\n",
       "    <tr>\n",
       "      <th>9</th>\n",
       "      <td>9</td>\n",
       "      <td>A Back-Channel Plan for Ukraine and Russia, Co...</td>\n",
       "      <td>Megan Twohey and Scott Shane</td>\n",
       "      <td>A week before Michael T. Flynn resigned as nat...</td>\n",
       "      <td>fakeData</td>\n",
       "    </tr>\n",
       "    <tr>\n",
       "      <th>10</th>\n",
       "      <td>10</td>\n",
       "      <td>Obama’s Organizing for Action Partners with So...</td>\n",
       "      <td>Aaron Klein</td>\n",
       "      <td>Organizing for Action, the activist group that...</td>\n",
       "      <td>fakeData</td>\n",
       "    </tr>\n",
       "    <tr>\n",
       "      <th>11</th>\n",
       "      <td>11</td>\n",
       "      <td>BBC Comedy Sketch \"Real Housewives of ISIS\" Ca...</td>\n",
       "      <td>Chris Tomlinson</td>\n",
       "      <td>The BBC produced spoof on the “Real Housewives...</td>\n",
       "      <td>fakeData</td>\n",
       "    </tr>\n",
       "    <tr>\n",
       "      <th>12</th>\n",
       "      <td>12</td>\n",
       "      <td>Russian Researchers Discover Secret Nazi Milit...</td>\n",
       "      <td>Amando Flavio</td>\n",
       "      <td>The mystery surrounding The Third Reich and Na...</td>\n",
       "      <td>trueData</td>\n",
       "    </tr>\n",
       "    <tr>\n",
       "      <th>13</th>\n",
       "      <td>13</td>\n",
       "      <td>US Officials See No Link Between Trump and Russia</td>\n",
       "      <td>Jason Ditz</td>\n",
       "      <td>Clinton Campaign Demands FBI Affirm Trump's Ru...</td>\n",
       "      <td>trueData</td>\n",
       "    </tr>\n",
       "    <tr>\n",
       "      <th>14</th>\n",
       "      <td>14</td>\n",
       "      <td>Re: Yes, There Are Paid Government Trolls On S...</td>\n",
       "      <td>AnotherAnnie</td>\n",
       "      <td>Yes, There Are Paid Government Trolls On Socia...</td>\n",
       "      <td>trueData</td>\n",
       "    </tr>\n",
       "  </tbody>\n",
       "</table>\n",
       "</div>"
      ],
      "text/plain": [
       "    id                                              title  \\\n",
       "0    0  House Dem Aide: We Didn’t Even See Comey’s Let...   \n",
       "1    1  FLYNN: Hillary Clinton, Big Woman on Campus - ...   \n",
       "2    2                  Why the Truth Might Get You Fired   \n",
       "3    3  15 Civilians Killed In Single US Airstrike Hav...   \n",
       "4    4  Iranian woman jailed for fictional unpublished...   \n",
       "5    5  Jackie Mason: Hollywood Would Love Trump if He...   \n",
       "6    6  Life: Life Of Luxury: Elton John’s 6 Favorite ...   \n",
       "7    7  Benoît Hamon Wins French Socialist Party’s Pre...   \n",
       "8    8  Excerpts From a Draft Script for Donald Trump’...   \n",
       "9    9  A Back-Channel Plan for Ukraine and Russia, Co...   \n",
       "10  10  Obama’s Organizing for Action Partners with So...   \n",
       "11  11  BBC Comedy Sketch \"Real Housewives of ISIS\" Ca...   \n",
       "12  12  Russian Researchers Discover Secret Nazi Milit...   \n",
       "13  13  US Officials See No Link Between Trump and Russia   \n",
       "14  14  Re: Yes, There Are Paid Government Trolls On S...   \n",
       "\n",
       "                          author  \\\n",
       "0                  Darrell Lucus   \n",
       "1                Daniel J. Flynn   \n",
       "2             Consortiumnews.com   \n",
       "3                Jessica Purkiss   \n",
       "4                 Howard Portnoy   \n",
       "5                Daniel Nussbaum   \n",
       "6                            NaN   \n",
       "7                Alissa J. Rubin   \n",
       "8                            NaN   \n",
       "9   Megan Twohey and Scott Shane   \n",
       "10                   Aaron Klein   \n",
       "11               Chris Tomlinson   \n",
       "12                 Amando Flavio   \n",
       "13                    Jason Ditz   \n",
       "14                  AnotherAnnie   \n",
       "\n",
       "                                                 text     Class  \n",
       "0   House Dem Aide: We Didn’t Even See Comey’s Let...  trueData  \n",
       "1   Ever get the feeling your life circles the rou...  fakeData  \n",
       "2   Why the Truth Might Get You Fired October 29, ...  trueData  \n",
       "3   Videos 15 Civilians Killed In Single US Airstr...  trueData  \n",
       "4   Print \\nAn Iranian woman has been sentenced to...  trueData  \n",
       "5   In these trying times, Jackie Mason is the Voi...  fakeData  \n",
       "6   Ever wonder how Britain’s most iconic pop pian...  trueData  \n",
       "7   PARIS  —   France chose an idealistic, traditi...  fakeData  \n",
       "8   Donald J. Trump is scheduled to make a highly ...  fakeData  \n",
       "9   A week before Michael T. Flynn resigned as nat...  fakeData  \n",
       "10  Organizing for Action, the activist group that...  fakeData  \n",
       "11  The BBC produced spoof on the “Real Housewives...  fakeData  \n",
       "12  The mystery surrounding The Third Reich and Na...  trueData  \n",
       "13  Clinton Campaign Demands FBI Affirm Trump's Ru...  trueData  \n",
       "14  Yes, There Are Paid Government Trolls On Socia...  trueData  "
      ]
     },
     "execution_count": 123,
     "metadata": {},
     "output_type": "execute_result"
    }
   ],
   "source": [
    "dataset_2.head(15)"
   ]
  },
  {
   "cell_type": "code",
   "execution_count": 124,
   "id": "2baf3e2e",
   "metadata": {},
   "outputs": [],
   "source": [
    "dataset_2.drop(['id'], axis = 1, inplace = True)"
   ]
  },
  {
   "cell_type": "code",
   "execution_count": 125,
   "id": "2ca1090d",
   "metadata": {},
   "outputs": [],
   "source": [
    "dataset_2.drop(['title'], axis = 1, inplace = True)"
   ]
  },
  {
   "cell_type": "code",
   "execution_count": 126,
   "id": "7b9b2743",
   "metadata": {},
   "outputs": [],
   "source": [
    "dataset_2.drop(['author'], axis = 1, inplace = True)"
   ]
  },
  {
   "cell_type": "code",
   "execution_count": 127,
   "id": "8e08df75",
   "metadata": {},
   "outputs": [
    {
     "data": {
      "text/html": [
       "<div>\n",
       "<style scoped>\n",
       "    .dataframe tbody tr th:only-of-type {\n",
       "        vertical-align: middle;\n",
       "    }\n",
       "\n",
       "    .dataframe tbody tr th {\n",
       "        vertical-align: top;\n",
       "    }\n",
       "\n",
       "    .dataframe thead th {\n",
       "        text-align: right;\n",
       "    }\n",
       "</style>\n",
       "<table border=\"1\" class=\"dataframe\">\n",
       "  <thead>\n",
       "    <tr style=\"text-align: right;\">\n",
       "      <th></th>\n",
       "      <th>text</th>\n",
       "      <th>Class</th>\n",
       "    </tr>\n",
       "  </thead>\n",
       "  <tbody>\n",
       "    <tr>\n",
       "      <th>0</th>\n",
       "      <td>House Dem Aide: We Didn’t Even See Comey’s Let...</td>\n",
       "      <td>trueData</td>\n",
       "    </tr>\n",
       "    <tr>\n",
       "      <th>1</th>\n",
       "      <td>Ever get the feeling your life circles the rou...</td>\n",
       "      <td>fakeData</td>\n",
       "    </tr>\n",
       "    <tr>\n",
       "      <th>2</th>\n",
       "      <td>Why the Truth Might Get You Fired October 29, ...</td>\n",
       "      <td>trueData</td>\n",
       "    </tr>\n",
       "    <tr>\n",
       "      <th>3</th>\n",
       "      <td>Videos 15 Civilians Killed In Single US Airstr...</td>\n",
       "      <td>trueData</td>\n",
       "    </tr>\n",
       "    <tr>\n",
       "      <th>4</th>\n",
       "      <td>Print \\nAn Iranian woman has been sentenced to...</td>\n",
       "      <td>trueData</td>\n",
       "    </tr>\n",
       "  </tbody>\n",
       "</table>\n",
       "</div>"
      ],
      "text/plain": [
       "                                                text     Class\n",
       "0  House Dem Aide: We Didn’t Even See Comey’s Let...  trueData\n",
       "1  Ever get the feeling your life circles the rou...  fakeData\n",
       "2  Why the Truth Might Get You Fired October 29, ...  trueData\n",
       "3  Videos 15 Civilians Killed In Single US Airstr...  trueData\n",
       "4  Print \\nAn Iranian woman has been sentenced to...  trueData"
      ]
     },
     "execution_count": 127,
     "metadata": {},
     "output_type": "execute_result"
    }
   ],
   "source": [
    "dataset_2.head()"
   ]
  },
  {
   "cell_type": "code",
   "execution_count": 128,
   "id": "2396b1ff",
   "metadata": {},
   "outputs": [
    {
     "data": {
      "text/plain": [
       "(65698, 2)"
      ]
     },
     "execution_count": 128,
     "metadata": {},
     "output_type": "execute_result"
    }
   ],
   "source": [
    "final_dataset = pd.concat([dataset_1,dataset_2]).reset_index(drop = True)\n",
    "final_dataset.shape"
   ]
  },
  {
   "cell_type": "code",
   "execution_count": 129,
   "id": "874cd7ac",
   "metadata": {},
   "outputs": [],
   "source": [
    "from sklearn.utils import shuffle\n",
    "final_dataset = shuffle(final_dataset)\n",
    "final_dataset = final_dataset.reset_index(drop = True)"
   ]
  },
  {
   "cell_type": "code",
   "execution_count": 130,
   "id": "c973b9b4",
   "metadata": {},
   "outputs": [],
   "source": [
    "final_dataset['text'] = final_dataset['text'].str.lower()"
   ]
  },
  {
   "cell_type": "code",
   "execution_count": 131,
   "id": "6a9865a8",
   "metadata": {},
   "outputs": [
    {
     "data": {
      "text/html": [
       "<div>\n",
       "<style scoped>\n",
       "    .dataframe tbody tr th:only-of-type {\n",
       "        vertical-align: middle;\n",
       "    }\n",
       "\n",
       "    .dataframe tbody tr th {\n",
       "        vertical-align: top;\n",
       "    }\n",
       "\n",
       "    .dataframe thead th {\n",
       "        text-align: right;\n",
       "    }\n",
       "</style>\n",
       "<table border=\"1\" class=\"dataframe\">\n",
       "  <thead>\n",
       "    <tr style=\"text-align: right;\">\n",
       "      <th></th>\n",
       "      <th>text</th>\n",
       "      <th>Class</th>\n",
       "    </tr>\n",
       "  </thead>\n",
       "  <tbody>\n",
       "    <tr>\n",
       "      <th>0</th>\n",
       "      <td>\\nin today’s, 25th, wikileaks release of hacke...</td>\n",
       "      <td>trueData</td>\n",
       "    </tr>\n",
       "    <tr>\n",
       "      <th>1</th>\n",
       "      <td>dallas  —   the women’s final four is a showca...</td>\n",
       "      <td>fakeData</td>\n",
       "    </tr>\n",
       "    <tr>\n",
       "      <th>2</th>\n",
       "      <td>the california state assembly passed a bill mo...</td>\n",
       "      <td>fakeData</td>\n",
       "    </tr>\n",
       "    <tr>\n",
       "      <th>3</th>\n",
       "      <td>out of america \\ngood bye</td>\n",
       "      <td>trueData</td>\n",
       "    </tr>\n",
       "    <tr>\n",
       "      <th>4</th>\n",
       "      <td>washington (reuters) - the u.s. senate confirm...</td>\n",
       "      <td>trueData</td>\n",
       "    </tr>\n",
       "    <tr>\n",
       "      <th>5</th>\n",
       "      <td>new york (reuters) - donald trump appeared to ...</td>\n",
       "      <td>trueData</td>\n",
       "    </tr>\n",
       "    <tr>\n",
       "      <th>6</th>\n",
       "      <td>billy bush, a host on the “today” show who has...</td>\n",
       "      <td>fakeData</td>\n",
       "    </tr>\n",
       "    <tr>\n",
       "      <th>7</th>\n",
       "      <td>wayne madsen | 11.11.2016 | world the clintons...</td>\n",
       "      <td>trueData</td>\n",
       "    </tr>\n",
       "    <tr>\n",
       "      <th>8</th>\n",
       "      <td>\\nthis election remains more heated than any o...</td>\n",
       "      <td>trueData</td>\n",
       "    </tr>\n",
       "    <tr>\n",
       "      <th>9</th>\n",
       "      <td>washington (reuters) - u.s. senate republican ...</td>\n",
       "      <td>trueData</td>\n",
       "    </tr>\n",
       "  </tbody>\n",
       "</table>\n",
       "</div>"
      ],
      "text/plain": [
       "                                                text     Class\n",
       "0  \\nin today’s, 25th, wikileaks release of hacke...  trueData\n",
       "1  dallas  —   the women’s final four is a showca...  fakeData\n",
       "2  the california state assembly passed a bill mo...  fakeData\n",
       "3                          out of america \\ngood bye  trueData\n",
       "4  washington (reuters) - the u.s. senate confirm...  trueData\n",
       "5  new york (reuters) - donald trump appeared to ...  trueData\n",
       "6  billy bush, a host on the “today” show who has...  fakeData\n",
       "7  wayne madsen | 11.11.2016 | world the clintons...  trueData\n",
       "8  \\nthis election remains more heated than any o...  trueData\n",
       "9  washington (reuters) - u.s. senate republican ...  trueData"
      ]
     },
     "execution_count": 131,
     "metadata": {},
     "output_type": "execute_result"
    }
   ],
   "source": [
    "final_dataset.head(10)"
   ]
  },
  {
   "cell_type": "code",
   "execution_count": 132,
   "id": "f935b1fb",
   "metadata": {},
   "outputs": [],
   "source": [
    "final_dataset['text'] = final_dataset['text'].astype(str)"
   ]
  },
  {
   "cell_type": "code",
   "execution_count": 133,
   "id": "3a4f3ca8",
   "metadata": {},
   "outputs": [],
   "source": [
    "def delete_punctuation(text):\n",
    "    total_data = [char for char in text if char not in string.punctuation]\n",
    "    final_str = ''.join(total_data)\n",
    "    return final_str\n",
    "\n",
    "final_dataset['text'] = final_dataset['text'].apply(delete_punctuation)"
   ]
  },
  {
   "cell_type": "code",
   "execution_count": 134,
   "id": "47f7bbde",
   "metadata": {},
   "outputs": [
    {
     "data": {
      "text/html": [
       "<div>\n",
       "<style scoped>\n",
       "    .dataframe tbody tr th:only-of-type {\n",
       "        vertical-align: middle;\n",
       "    }\n",
       "\n",
       "    .dataframe tbody tr th {\n",
       "        vertical-align: top;\n",
       "    }\n",
       "\n",
       "    .dataframe thead th {\n",
       "        text-align: right;\n",
       "    }\n",
       "</style>\n",
       "<table border=\"1\" class=\"dataframe\">\n",
       "  <thead>\n",
       "    <tr style=\"text-align: right;\">\n",
       "      <th></th>\n",
       "      <th>text</th>\n",
       "      <th>Class</th>\n",
       "    </tr>\n",
       "  </thead>\n",
       "  <tbody>\n",
       "    <tr>\n",
       "      <th>0</th>\n",
       "      <td>\\nin today’s 25th wikileaks release of hacked ...</td>\n",
       "      <td>trueData</td>\n",
       "    </tr>\n",
       "    <tr>\n",
       "      <th>1</th>\n",
       "      <td>dallas  —   the women’s final four is a showca...</td>\n",
       "      <td>fakeData</td>\n",
       "    </tr>\n",
       "    <tr>\n",
       "      <th>2</th>\n",
       "      <td>the california state assembly passed a bill mo...</td>\n",
       "      <td>fakeData</td>\n",
       "    </tr>\n",
       "    <tr>\n",
       "      <th>3</th>\n",
       "      <td>out of america \\ngood bye</td>\n",
       "      <td>trueData</td>\n",
       "    </tr>\n",
       "    <tr>\n",
       "      <th>4</th>\n",
       "      <td>washington reuters  the us senate confirmed fo...</td>\n",
       "      <td>trueData</td>\n",
       "    </tr>\n",
       "    <tr>\n",
       "      <th>5</th>\n",
       "      <td>new york reuters  donald trump appeared to cha...</td>\n",
       "      <td>trueData</td>\n",
       "    </tr>\n",
       "    <tr>\n",
       "      <th>6</th>\n",
       "      <td>billy bush a host on the “today” show who has ...</td>\n",
       "      <td>fakeData</td>\n",
       "    </tr>\n",
       "    <tr>\n",
       "      <th>7</th>\n",
       "      <td>wayne madsen  11112016  world the clintons and...</td>\n",
       "      <td>trueData</td>\n",
       "    </tr>\n",
       "    <tr>\n",
       "      <th>8</th>\n",
       "      <td>\\nthis election remains more heated than any o...</td>\n",
       "      <td>trueData</td>\n",
       "    </tr>\n",
       "    <tr>\n",
       "      <th>9</th>\n",
       "      <td>washington reuters  us senate republican leade...</td>\n",
       "      <td>trueData</td>\n",
       "    </tr>\n",
       "  </tbody>\n",
       "</table>\n",
       "</div>"
      ],
      "text/plain": [
       "                                                text     Class\n",
       "0  \\nin today’s 25th wikileaks release of hacked ...  trueData\n",
       "1  dallas  —   the women’s final four is a showca...  fakeData\n",
       "2  the california state assembly passed a bill mo...  fakeData\n",
       "3                          out of america \\ngood bye  trueData\n",
       "4  washington reuters  the us senate confirmed fo...  trueData\n",
       "5  new york reuters  donald trump appeared to cha...  trueData\n",
       "6  billy bush a host on the “today” show who has ...  fakeData\n",
       "7  wayne madsen  11112016  world the clintons and...  trueData\n",
       "8  \\nthis election remains more heated than any o...  trueData\n",
       "9  washington reuters  us senate republican leade...  trueData"
      ]
     },
     "execution_count": 134,
     "metadata": {},
     "output_type": "execute_result"
    }
   ],
   "source": [
    "final_dataset.head(10)"
   ]
  },
  {
   "cell_type": "code",
   "execution_count": 135,
   "id": "e902fd4c",
   "metadata": {},
   "outputs": [
    {
     "name": "stderr",
     "output_type": "stream",
     "text": [
      "[nltk_data] Downloading package stopwords to\n",
      "[nltk_data]     C:\\Users\\sobhi\\AppData\\Roaming\\nltk_data...\n",
      "[nltk_data]   Package stopwords is already up-to-date!\n"
     ]
    }
   ],
   "source": [
    "nltk.download('stopwords')\n",
    "from nltk.corpus import stopwords\n",
    "swords = stopwords.words('english')\n",
    "final_dataset['text']  = final_dataset['text'].apply(lambda x: ' '.join([word for word in x.split() if word not in (swords)]))"
   ]
  },
  {
   "cell_type": "code",
   "execution_count": 136,
   "id": "a76d2376",
   "metadata": {},
   "outputs": [
    {
     "data": {
      "text/html": [
       "<div>\n",
       "<style scoped>\n",
       "    .dataframe tbody tr th:only-of-type {\n",
       "        vertical-align: middle;\n",
       "    }\n",
       "\n",
       "    .dataframe tbody tr th {\n",
       "        vertical-align: top;\n",
       "    }\n",
       "\n",
       "    .dataframe thead th {\n",
       "        text-align: right;\n",
       "    }\n",
       "</style>\n",
       "<table border=\"1\" class=\"dataframe\">\n",
       "  <thead>\n",
       "    <tr style=\"text-align: right;\">\n",
       "      <th></th>\n",
       "      <th>text</th>\n",
       "      <th>Class</th>\n",
       "    </tr>\n",
       "  </thead>\n",
       "  <tbody>\n",
       "    <tr>\n",
       "      <th>0</th>\n",
       "      <td>today’s 25th wikileaks release hacked podesta ...</td>\n",
       "      <td>trueData</td>\n",
       "    </tr>\n",
       "    <tr>\n",
       "      <th>1</th>\n",
       "      <td>dallas — women’s final four showcase search pr...</td>\n",
       "      <td>fakeData</td>\n",
       "    </tr>\n",
       "    <tr>\n",
       "      <th>2</th>\n",
       "      <td>california state assembly passed bill monday a...</td>\n",
       "      <td>fakeData</td>\n",
       "    </tr>\n",
       "    <tr>\n",
       "      <th>3</th>\n",
       "      <td>america good bye</td>\n",
       "      <td>trueData</td>\n",
       "    </tr>\n",
       "    <tr>\n",
       "      <th>4</th>\n",
       "      <td>washington reuters us senate confirmed former ...</td>\n",
       "      <td>trueData</td>\n",
       "    </tr>\n",
       "    <tr>\n",
       "      <th>5</th>\n",
       "      <td>new york reuters donald trump appeared change ...</td>\n",
       "      <td>trueData</td>\n",
       "    </tr>\n",
       "    <tr>\n",
       "      <th>6</th>\n",
       "      <td>billy bush host “today” show received stinging...</td>\n",
       "      <td>fakeData</td>\n",
       "    </tr>\n",
       "    <tr>\n",
       "      <th>7</th>\n",
       "      <td>wayne madsen 11112016 world clintons soros lau...</td>\n",
       "      <td>trueData</td>\n",
       "    </tr>\n",
       "    <tr>\n",
       "      <th>8</th>\n",
       "      <td>election remains heated modern history – many ...</td>\n",
       "      <td>trueData</td>\n",
       "    </tr>\n",
       "    <tr>\n",
       "      <th>9</th>\n",
       "      <td>washington reuters us senate republican leader...</td>\n",
       "      <td>trueData</td>\n",
       "    </tr>\n",
       "    <tr>\n",
       "      <th>10</th>\n",
       "      <td>dagger teeth formidable frame tyrannosaurus re...</td>\n",
       "      <td>fakeData</td>\n",
       "    </tr>\n",
       "    <tr>\n",
       "      <th>11</th>\n",
       "      <td>really beginning seem like church communities ...</td>\n",
       "      <td>fakeData</td>\n",
       "    </tr>\n",
       "    <tr>\n",
       "      <th>12</th>\n",
       "      <td>house speaker paul ryan sour grapes trump peop...</td>\n",
       "      <td>fakeData</td>\n",
       "    </tr>\n",
       "    <tr>\n",
       "      <th>13</th>\n",
       "      <td>earlier today new york times exclusive intervi...</td>\n",
       "      <td>fakeData</td>\n",
       "    </tr>\n",
       "    <tr>\n",
       "      <th>14</th>\n",
       "      <td>brussels reuters european union called publicl...</td>\n",
       "      <td>trueData</td>\n",
       "    </tr>\n",
       "  </tbody>\n",
       "</table>\n",
       "</div>"
      ],
      "text/plain": [
       "                                                 text     Class\n",
       "0   today’s 25th wikileaks release hacked podesta ...  trueData\n",
       "1   dallas — women’s final four showcase search pr...  fakeData\n",
       "2   california state assembly passed bill monday a...  fakeData\n",
       "3                                    america good bye  trueData\n",
       "4   washington reuters us senate confirmed former ...  trueData\n",
       "5   new york reuters donald trump appeared change ...  trueData\n",
       "6   billy bush host “today” show received stinging...  fakeData\n",
       "7   wayne madsen 11112016 world clintons soros lau...  trueData\n",
       "8   election remains heated modern history – many ...  trueData\n",
       "9   washington reuters us senate republican leader...  trueData\n",
       "10  dagger teeth formidable frame tyrannosaurus re...  fakeData\n",
       "11  really beginning seem like church communities ...  fakeData\n",
       "12  house speaker paul ryan sour grapes trump peop...  fakeData\n",
       "13  earlier today new york times exclusive intervi...  fakeData\n",
       "14  brussels reuters european union called publicl...  trueData"
      ]
     },
     "execution_count": 136,
     "metadata": {},
     "output_type": "execute_result"
    }
   ],
   "source": [
    "final_dataset.head(15)"
   ]
  },
  {
   "cell_type": "code",
   "execution_count": 137,
   "id": "ab7f5e50",
   "metadata": {},
   "outputs": [
    {
     "name": "stdout",
     "output_type": "stream",
     "text": [
      "Class\n",
      "fakeData    33868\n",
      "trueData    31830\n",
      "Name: text, dtype: int64\n"
     ]
    },
    {
     "data": {
      "image/png": "[encoded data removed]",
      "text/plain": [
       "<Figure size 640x480 with 1 Axes>"
      ]
     },
     "metadata": {},
     "output_type": "display_data"
    }
   ],
   "source": [
    "print(final_dataset.groupby(['Class'])['text'].count())\n",
    "final_dataset.groupby(['Class'])['text'].count().plot(kind = 'bar', color = 'orange')\n",
    "plt.show()"
   ]
  },
  {
   "cell_type": "code",
   "execution_count": 182,
   "id": "02661c70",
   "metadata": {},
   "outputs": [],
   "source": [
    "x_train, x_test, y_train, y_test = train_test_split(final_dataset['text'], final_dataset.Class, test_size = 0.3, random_state = 42)"
   ]
  },
  {
   "cell_type": "code",
   "execution_count": 139,
   "id": "9b824214",
   "metadata": {},
   "outputs": [
    {
     "name": "stdout",
     "output_type": "stream",
     "text": [
      "Accuracy of Logistic Regression Algo: 93.2%\n"
     ]
    }
   ],
   "source": [
    "#Logistic_Regression Algo\n",
    "dt = dict()\n",
    "from sklearn.linear_model import LogisticRegression\n",
    "\n",
    "pipe = Pipeline([('Cvect', CountVectorizer()), ('Tfidf', TfidfTransformer()), ('Model', LogisticRegression())])\n",
    "\n",
    "Model = pipe.fit(x_train, y_train)\n",
    "Pred = Model.predict(x_test)\n",
    "\n",
    "print(\"Accuracy of Logistic Regression Algo: {}%\".format(round(accuracy_score(Pred, y_test)*100, 2)))\n",
    "\n",
    "dt['Logistic Regression'] = round(accuracy_score(y_test, Pred)*100, 2)"
   ]
  },
  {
   "cell_type": "code",
   "execution_count": 140,
   "id": "a09561f0",
   "metadata": {},
   "outputs": [
    {
     "data": {
      "image/png": "[encoded data removed]",
      "text/plain": [
       "<Figure size 640x480 with 2 Axes>"
      ]
     },
     "metadata": {},
     "output_type": "display_data"
    }
   ],
   "source": [
    "cm = confusion_matrix(y_test, Pred, labels = ['fakeData', 'trueData'])\n",
    "disp = ConfusionMatrixDisplay(confusion_matrix = cm, display_labels= ['fakeData', 'trueData'])\n",
    "disp.plot()\n",
    "plt.show()"
   ]
  },
  {
   "cell_type": "code",
   "execution_count": 141,
   "id": "607d577b",
   "metadata": {},
   "outputs": [
    {
     "name": "stdout",
     "output_type": "stream",
     "text": [
      "              precision    recall  f1-score   support\n",
      "\n",
      "    fakeData       0.92      0.95      0.93     10092\n",
      "    trueData       0.95      0.91      0.93      9618\n",
      "\n",
      "    accuracy                           0.93     19710\n",
      "   macro avg       0.93      0.93      0.93     19710\n",
      "weighted avg       0.93      0.93      0.93     19710\n",
      "\n"
     ]
    }
   ],
   "source": [
    "print(classification_report(y_test, Pred))"
   ]
  },
  {
   "cell_type": "code",
   "execution_count": 183,
   "id": "b9b76f8a",
   "metadata": {},
   "outputs": [
    {
     "name": "stdout",
     "output_type": "stream",
     "text": [
      "Accuracy of Decision Tree Algo: 91.3%\n"
     ]
    }
   ],
   "source": [
    "#Decision_Tree\n",
    "from sklearn.tree import DecisionTreeClassifier\n",
    "\n",
    "pipe = Pipeline([('Cvect', CountVectorizer()), ('Tfidf', TfidfTransformer()), ('Model', DecisionTreeClassifier(criterion = 'entropy',max_depth = 20, splitter = 'best', random_state = 42))])\n",
    "\n",
    "Model = pipe.fit(x_train, y_train)\n",
    "Pred = Model.predict(x_test)\n",
    "\n",
    "print(\"Accuracy of Decision Tree Algo: {}%\".format(round(accuracy_score(Pred, y_test)*100, 2)))\n",
    "\n",
    "dt['Decision Tree'] = round(accuracy_score(y_test, Pred)*100, 2)"
   ]
  },
  {
   "cell_type": "code",
   "execution_count": 184,
   "id": "843304cb",
   "metadata": {},
   "outputs": [
    {
     "data": {
      "image/png": "[encoded data removed]",
      "text/plain": [
       "<Figure size 640x480 with 2 Axes>"
      ]
     },
     "metadata": {},
     "output_type": "display_data"
    }
   ],
   "source": [
    "cm = confusion_matrix(y_test, Pred, labels = ['fakeData', 'trueData'])\n",
    "disp = ConfusionMatrixDisplay(confusion_matrix = cm, display_labels= ['fakeData', 'trueData'])\n",
    "disp.plot()\n",
    "plt.show()"
   ]
  },
  {
   "cell_type": "code",
   "execution_count": 185,
   "id": "2ee78684",
   "metadata": {},
   "outputs": [
    {
     "name": "stdout",
     "output_type": "stream",
     "text": [
      "              precision    recall  f1-score   support\n",
      "\n",
      "    fakeData       0.89      0.95      0.92     10092\n",
      "    trueData       0.94      0.88      0.91      9618\n",
      "\n",
      "    accuracy                           0.91     19710\n",
      "   macro avg       0.92      0.91      0.91     19710\n",
      "weighted avg       0.91      0.91      0.91     19710\n",
      "\n"
     ]
    }
   ],
   "source": [
    "print(classification_report(y_test, Pred))"
   ]
  },
  {
   "cell_type": "code",
   "execution_count": 144,
   "id": "763ba471",
   "metadata": {},
   "outputs": [
    {
     "name": "stdout",
     "output_type": "stream",
     "text": [
      "Accuracy of Random Forest Algo: 88.91%\n"
     ]
    }
   ],
   "source": [
    "#RandomForest\n",
    "\n",
    "from sklearn.ensemble import RandomForestClassifier\n",
    "\n",
    "pipe = Pipeline([('Cvect', CountVectorizer()), ('Tfidf', TfidfTransformer()), ('Model', RandomForestClassifier(n_estimators = 50, criterion = 'entropy'))])\n",
    "\n",
    "Model = pipe.fit(x_train, y_train)\n",
    "Pred = Model.predict(x_test)\n",
    "\n",
    "print(\"Accuracy of Random Forest Algo: {}%\".format(round(accuracy_score(Pred, y_test)*100, 2)))\n",
    "\n",
    "dt['Random Forest'] = round(accuracy_score(y_test, Pred)*100, 2)"
   ]
  },
  {
   "cell_type": "code",
   "execution_count": 145,
   "id": "2e20076b",
   "metadata": {},
   "outputs": [
    {
     "data": {
      "image/png": "[encoded data removed]",
      "text/plain": [
       "<Figure size 640x480 with 2 Axes>"
      ]
     },
     "metadata": {},
     "output_type": "display_data"
    }
   ],
   "source": [
    "cm = confusion_matrix(y_test, Pred, labels = ['fakeData', 'trueData'])\n",
    "disp = ConfusionMatrixDisplay(confusion_matrix = cm, display_labels= ['fakeData', 'trueData'])\n",
    "disp.plot()\n",
    "plt.show()"
   ]
  },
  {
   "cell_type": "code",
   "execution_count": 146,
   "id": "96cdc8bd",
   "metadata": {},
   "outputs": [
    {
     "name": "stdout",
     "output_type": "stream",
     "text": [
      "              precision    recall  f1-score   support\n",
      "\n",
      "    fakeData       0.86      0.94      0.90     10092\n",
      "    trueData       0.93      0.84      0.88      9618\n",
      "\n",
      "    accuracy                           0.89     19710\n",
      "   macro avg       0.89      0.89      0.89     19710\n",
      "weighted avg       0.89      0.89      0.89     19710\n",
      "\n"
     ]
    }
   ],
   "source": [
    "print(classification_report(y_test, Pred))"
   ]
  },
  {
   "cell_type": "code",
   "execution_count": 147,
   "id": "1002b140",
   "metadata": {},
   "outputs": [
    {
     "name": "stdout",
     "output_type": "stream",
     "text": [
      "Accuracy of Naive Bayes Algo: 83.46%\n"
     ]
    }
   ],
   "source": [
    "#NaiveBayes\n",
    "from sklearn.naive_bayes import MultinomialNB\n",
    "\n",
    "NB_classifier = MultinomialNB()\n",
    "pipe = Pipeline([('Cvect', CountVectorizer()), ('Tfidf', TfidfTransformer()), ('Model', NB_classifier)])\n",
    "\n",
    "Model = pipe.fit(x_train, y_train)\n",
    "Pred = Model.predict(x_test)\n",
    "\n",
    "print(\"Accuracy of Naive Bayes Algo: {}%\".format(round(accuracy_score(Pred, y_test)*100, 2)))\n",
    "\n",
    "dt['Naive Bayes'] = round(accuracy_score(y_test, Pred)*100, 2)"
   ]
  },
  {
   "cell_type": "code",
   "execution_count": 148,
   "id": "41170ab3",
   "metadata": {},
   "outputs": [
    {
     "data": {
      "image/png": "[encoded data removed]",
      "text/plain": [
       "<Figure size 640x480 with 2 Axes>"
      ]
     },
     "metadata": {},
     "output_type": "display_data"
    }
   ],
   "source": [
    "cm = confusion_matrix(y_test, Pred, labels = ['fakeData', 'trueData'])\n",
    "disp = ConfusionMatrixDisplay(confusion_matrix = cm, display_labels= ['fakeData', 'trueData'])\n",
    "disp.plot()\n",
    "plt.show()"
   ]
  },
  {
   "cell_type": "code",
   "execution_count": 149,
   "id": "41c5e4ee",
   "metadata": {},
   "outputs": [
    {
     "name": "stdout",
     "output_type": "stream",
     "text": [
      "              precision    recall  f1-score   support\n",
      "\n",
      "    fakeData       0.80      0.91      0.85     10092\n",
      "    trueData       0.89      0.76      0.82      9618\n",
      "\n",
      "    accuracy                           0.83     19710\n",
      "   macro avg       0.84      0.83      0.83     19710\n",
      "weighted avg       0.84      0.83      0.83     19710\n",
      "\n"
     ]
    }
   ],
   "source": [
    "print(classification_report(y_test, Pred))"
   ]
  },
  {
   "cell_type": "code",
   "execution_count": 150,
   "id": "51772ae7",
   "metadata": {},
   "outputs": [
    {
     "name": "stderr",
     "output_type": "stream",
     "text": [
      "C:\\Users\\sobhi\\anaconda3\\lib\\site-packages\\xgboost\\sklearn.py:1224: UserWarning: The use of label encoder in XGBClassifier is deprecated and will be removed in a future release. To remove this warning, do the following: 1) Pass option use_label_encoder=False when constructing XGBClassifier object; and 2) Encode your labels (y) as integers starting with 0, i.e. 0, 1, 2, ..., [num_class - 1].\n",
      "  warnings.warn(label_encoder_deprecation_msg, UserWarning)\n"
     ]
    },
    {
     "name": "stdout",
     "output_type": "stream",
     "text": [
      "[23:58:20] WARNING: C:\\Windows\\Temp\\abs_557yfx631l\\croots\\recipe\\xgboost-split_1659548953302\\work\\src\\learner.cc:1115: Starting in XGBoost 1.3.0, the default evaluation metric used with the objective 'binary:logistic' was changed from 'error' to 'logloss'. Explicitly set eval_metric if you'd like to restore the old behavior.\n",
      "Accuracy of XGBoost Algo: 95.63%\n"
     ]
    }
   ],
   "source": [
    "#XGBoost\n",
    "from xgboost import XGBClassifier\n",
    "\n",
    "clf = XGBClassifier(random_state=42, seed=2, colsample_bytree=0.6, subsample=0.7)\n",
    "\n",
    "pipe = Pipeline([('Cvect', CountVectorizer()), ('Tfidf', TfidfTransformer()), ('Model', clf)])\n",
    "\n",
    "Model = pipe.fit(x_train, y_train)\n",
    "Pred = Model.predict(x_test)\n",
    "\n",
    "print(\"Accuracy of XGBoost Algo: {}%\".format(round(accuracy_score(Pred, y_test)*100, 2)))\n",
    "\n",
    "\n",
    "dt['XGBoost'] = round(accuracy_score(y_test, Pred)*100, 2)"
   ]
  },
  {
   "cell_type": "code",
   "execution_count": 151,
   "id": "8bf0ff29",
   "metadata": {},
   "outputs": [
    {
     "data": {
      "image/png": "[encoded data removed]",
      "text/plain": [
       "<Figure size 640x480 with 2 Axes>"
      ]
     },
     "metadata": {},
     "output_type": "display_data"
    }
   ],
   "source": [
    "cm = confusion_matrix(y_test, Pred, labels = ['fakeData', 'trueData'])\n",
    "disp = ConfusionMatrixDisplay(confusion_matrix = cm, display_labels= ['fakeData', 'trueData'])\n",
    "disp.plot()\n",
    "plt.show()"
   ]
  },
  {
   "cell_type": "code",
   "execution_count": 152,
   "id": "12d9c4ba",
   "metadata": {},
   "outputs": [
    {
     "name": "stdout",
     "output_type": "stream",
     "text": [
      "              precision    recall  f1-score   support\n",
      "\n",
      "    fakeData       0.94      0.98      0.96     10092\n",
      "    trueData       0.97      0.94      0.95      9618\n",
      "\n",
      "    accuracy                           0.96     19710\n",
      "   macro avg       0.96      0.96      0.96     19710\n",
      "weighted avg       0.96      0.96      0.96     19710\n",
      "\n"
     ]
    }
   ],
   "source": [
    "print(classification_report(y_test, Pred))"
   ]
  },
  {
   "cell_type": "code",
   "execution_count": 153,
   "id": "2634f22e",
   "metadata": {},
   "outputs": [
    {
     "name": "stdout",
     "output_type": "stream",
     "text": [
      "Accuracy of PassiveAggressive Algo: 95.39%\n"
     ]
    }
   ],
   "source": [
    "#PassiveAggressiveClassifier\n",
    "\n",
    "from sklearn.linear_model import PassiveAggressiveClassifier\n",
    "\n",
    "clf = PassiveAggressiveClassifier(max_iter = 1000)\n",
    "\n",
    "pipe = Pipeline([('Cvect', CountVectorizer()), ('Tfidf', TfidfTransformer()), ('Model', clf)])\n",
    "\n",
    "Model = pipe.fit(x_train, y_train)\n",
    "Pred = Model.predict(x_test)\n",
    "\n",
    "print(\"Accuracy of PassiveAggressive Algo: {}%\".format(round(accuracy_score(Pred, y_test)*100, 2)))\n",
    "\n",
    "dt['PassiveAggressive'] = round(accuracy_score(y_test, Pred)*100, 2)"
   ]
  },
  {
   "cell_type": "code",
   "execution_count": 154,
   "id": "ea0021b1",
   "metadata": {},
   "outputs": [
    {
     "data": {
      "image/png": "[encoded data removed]",
      "text/plain": [
       "<Figure size 640x480 with 2 Axes>"
      ]
     },
     "metadata": {},
     "output_type": "display_data"
    }
   ],
   "source": [
    "cm = confusion_matrix(y_test, Pred, labels = ['fakeData', 'trueData'])\n",
    "disp = ConfusionMatrixDisplay(confusion_matrix = cm, display_labels= ['fakeData', 'trueData'])\n",
    "disp.plot()\n",
    "plt.show()"
   ]
  },
  {
   "cell_type": "code",
   "execution_count": 155,
   "id": "b7a418fb",
   "metadata": {},
   "outputs": [
    {
     "name": "stdout",
     "output_type": "stream",
     "text": [
      "              precision    recall  f1-score   support\n",
      "\n",
      "    fakeData       0.95      0.96      0.96     10092\n",
      "    trueData       0.96      0.95      0.95      9618\n",
      "\n",
      "    accuracy                           0.95     19710\n",
      "   macro avg       0.95      0.95      0.95     19710\n",
      "weighted avg       0.95      0.95      0.95     19710\n",
      "\n"
     ]
    }
   ],
   "source": [
    "print(classification_report(y_test, Pred))"
   ]
  },
  {
   "cell_type": "code",
   "execution_count": 187,
   "id": "26d3516d",
   "metadata": {},
   "outputs": [
    {
     "data": {
      "text/plain": [
       "([<matplotlib.axis.YTick at 0x21a85476370>,\n",
       "  <matplotlib.axis.YTick at 0x21ab3550250>,\n",
       "  <matplotlib.axis.YTick at 0x21ab3550ee0>,\n",
       "  <matplotlib.axis.YTick at 0x21ac29a9130>,\n",
       "  <matplotlib.axis.YTick at 0x21ac29a9eb0>,\n",
       "  <matplotlib.axis.YTick at 0x21ac29a91c0>,\n",
       "  <matplotlib.axis.YTick at 0x21b2c6468e0>,\n",
       "  <matplotlib.axis.YTick at 0x21b2c646d60>,\n",
       "  <matplotlib.axis.YTick at 0x21ab33cdeb0>,\n",
       "  <matplotlib.axis.YTick at 0x21ab33cd2b0>,\n",
       "  <matplotlib.axis.YTick at 0x21b2ac64130>,\n",
       "  <matplotlib.axis.YTick at 0x21b2b106fd0>,\n",
       "  <matplotlib.axis.YTick at 0x21b2c6463a0>,\n",
       "  <matplotlib.axis.YTick at 0x21ac28d3eb0>,\n",
       "  <matplotlib.axis.YTick at 0x21aa91fed60>,\n",
       "  <matplotlib.axis.YTick at 0x21a9a85b5b0>,\n",
       "  <matplotlib.axis.YTick at 0x21a851e24c0>,\n",
       "  <matplotlib.axis.YTick at 0x21a8517f880>,\n",
       "  <matplotlib.axis.YTick at 0x21a851e2490>,\n",
       "  <matplotlib.axis.YTick at 0x21ac28d3a90>,\n",
       "  <matplotlib.axis.YTick at 0x21a9ab225e0>],\n",
       " [Text(0, 0, ''),\n",
       "  Text(0, 0, ''),\n",
       "  Text(0, 0, ''),\n",
       "  Text(0, 0, ''),\n",
       "  Text(0, 0, ''),\n",
       "  Text(0, 0, ''),\n",
       "  Text(0, 0, ''),\n",
       "  Text(0, 0, ''),\n",
       "  Text(0, 0, ''),\n",
       "  Text(0, 0, ''),\n",
       "  Text(0, 0, ''),\n",
       "  Text(0, 0, ''),\n",
       "  Text(0, 0, ''),\n",
       "  Text(0, 0, ''),\n",
       "  Text(0, 0, ''),\n",
       "  Text(0, 0, ''),\n",
       "  Text(0, 0, ''),\n",
       "  Text(0, 0, ''),\n",
       "  Text(0, 0, ''),\n",
       "  Text(0, 0, ''),\n",
       "  Text(0, 0, '')])"
      ]
     },
     "execution_count": 187,
     "metadata": {},
     "output_type": "execute_result"
    },
    {
     "data": {
      "image/png": "[encoded data removed]",
      "text/plain": [
       "<Figure size 1200x700 with 1 Axes>"
      ]
     },
     "metadata": {},
     "output_type": "display_data"
    }
   ],
   "source": [
    "plt.figure(figsize=(12,7), facecolor = 'orange')\n",
    "plt.bar(list(dt.keys()),list(dt.values()), color = 'green')\n",
    "plt.ylim(80,100)\n",
    "plt.yticks((80,81,82,83,84,85,86,87,88,89,90,91,92,93,94,95,96,97,98,99,100))"
   ]
  },
  {
   "cell_type": "code",
   "execution_count": 157,
   "id": "c4387b29",
   "metadata": {},
   "outputs": [],
   "source": [
    "#Dataset1 - For Comparison\n",
    "\n",
    "from sklearn.utils import shuffle\n",
    "dataset_1 = shuffle(dataset_1)\n",
    "dataset_1 = dataset_1.reset_index(drop = True)"
   ]
  },
  {
   "cell_type": "code",
   "execution_count": 158,
   "id": "97890d9f",
   "metadata": {},
   "outputs": [],
   "source": [
    "dataset_1['text'] = dataset_1['text'].str.lower()"
   ]
  },
  {
   "cell_type": "code",
   "execution_count": 159,
   "id": "e94d8180",
   "metadata": {},
   "outputs": [],
   "source": [
    "dataset_1['text'] = dataset_1['text'].astype(str)"
   ]
  },
  {
   "cell_type": "code",
   "execution_count": 160,
   "id": "6d71686b",
   "metadata": {},
   "outputs": [],
   "source": [
    "def delete_punctuation(text):\n",
    "    total_data = [char for char in text if char not in string.punctuation]\n",
    "    final_str = ''.join(total_data)\n",
    "    return final_str\n",
    "\n",
    "dataset_1['text'] = dataset_1['text'].apply(delete_punctuation)"
   ]
  },
  {
   "cell_type": "code",
   "execution_count": 161,
   "id": "96a9aafd",
   "metadata": {},
   "outputs": [
    {
     "name": "stderr",
     "output_type": "stream",
     "text": [
      "[nltk_data] Downloading package stopwords to\n",
      "[nltk_data]     C:\\Users\\sobhi\\AppData\\Roaming\\nltk_data...\n",
      "[nltk_data]   Package stopwords is already up-to-date!\n"
     ]
    }
   ],
   "source": [
    "nltk.download('stopwords')\n",
    "from nltk.corpus import stopwords\n",
    "swords = stopwords.words('english')\n",
    "dataset_1['text']  = dataset_1['text'].apply(lambda x: ' '.join([word for word in x.split() if word not in (swords)]))"
   ]
  },
  {
   "cell_type": "code",
   "execution_count": 162,
   "id": "92eac98c",
   "metadata": {},
   "outputs": [],
   "source": [
    "x_train, x_test, y_train, y_test = train_test_split(dataset_1['text'], dataset_1.Class, test_size = 0.3, random_state = 42)"
   ]
  },
  {
   "cell_type": "code",
   "execution_count": 163,
   "id": "08b77024",
   "metadata": {},
   "outputs": [
    {
     "name": "stdout",
     "output_type": "stream",
     "text": [
      "Accuracy of Logistic Regression Algo: 98.75%\n"
     ]
    }
   ],
   "source": [
    "#Logistic_Regression Algo\n",
    "\n",
    "from sklearn.linear_model import LogisticRegression\n",
    "\n",
    "pipe = Pipeline([('Cvect', CountVectorizer()), ('Tfidf', TfidfTransformer()), ('Model', LogisticRegression())])\n",
    "\n",
    "Model = pipe.fit(x_train, y_train)\n",
    "Pred = Model.predict(x_test)\n",
    "\n",
    "print(\"Accuracy of Logistic Regression Algo: {}%\".format(round(accuracy_score(Pred, y_test)*100, 2)))"
   ]
  },
  {
   "cell_type": "code",
   "execution_count": 164,
   "id": "f38de53a",
   "metadata": {},
   "outputs": [
    {
     "name": "stdout",
     "output_type": "stream",
     "text": [
      "Accuracy of Decision Tree Algo: 99.65%\n"
     ]
    }
   ],
   "source": [
    "#Decision_Tree\n",
    "from sklearn.tree import DecisionTreeClassifier\n",
    "\n",
    "pipe = Pipeline([('Cvect', CountVectorizer()), ('Tfidf', TfidfTransformer()), ('Model', DecisionTreeClassifier(criterion = 'entropy',max_depth = 20, splitter = 'best', random_state = 42))])\n",
    "\n",
    "Model = pipe.fit(x_train, y_train)\n",
    "Pred = Model.predict(x_test)\n",
    "\n",
    "print(\"Accuracy of Decision Tree Algo: {}%\".format(round(accuracy_score(Pred, y_test)*100, 2)))"
   ]
  },
  {
   "cell_type": "code",
   "execution_count": 165,
   "id": "f0ed9c63",
   "metadata": {},
   "outputs": [
    {
     "name": "stdout",
     "output_type": "stream",
     "text": [
      "Accuracy of Random Forest Algo: 99.18%\n"
     ]
    }
   ],
   "source": [
    "#RandomForest\n",
    "\n",
    "from sklearn.ensemble import RandomForestClassifier\n",
    "\n",
    "pipe = Pipeline([('Cvect', CountVectorizer()), ('Tfidf', TfidfTransformer()), ('Model', RandomForestClassifier(n_estimators = 50, criterion = 'entropy'))])\n",
    "\n",
    "Model = pipe.fit(x_train, y_train)\n",
    "Pred = Model.predict(x_test)\n",
    "\n",
    "print(\"Accuracy of Random Forest Algo: {}%\".format(round(accuracy_score(Pred, y_test)*100, 2)))"
   ]
  },
  {
   "cell_type": "code",
   "execution_count": 166,
   "id": "61515174",
   "metadata": {},
   "outputs": [
    {
     "name": "stdout",
     "output_type": "stream",
     "text": [
      "Accuracy of Naive Bayes Algo: 94.95%\n"
     ]
    }
   ],
   "source": [
    "#NaiveBayes\n",
    "from sklearn.naive_bayes import MultinomialNB\n",
    "\n",
    "NB_classifier = MultinomialNB()\n",
    "pipe = Pipeline([('Cvect', CountVectorizer()), ('Tfidf', TfidfTransformer()), ('Model', NB_classifier)])\n",
    "\n",
    "Model = pipe.fit(x_train, y_train)\n",
    "Pred = Model.predict(x_test)\n",
    "\n",
    "print(\"Accuracy of Naive Bayes Algo: {}%\".format(round(accuracy_score(Pred, y_test)*100, 2)))"
   ]
  },
  {
   "cell_type": "code",
   "execution_count": 167,
   "id": "e329bce5",
   "metadata": {},
   "outputs": [
    {
     "name": "stderr",
     "output_type": "stream",
     "text": [
      "C:\\Users\\sobhi\\anaconda3\\lib\\site-packages\\xgboost\\sklearn.py:1224: UserWarning: The use of label encoder in XGBClassifier is deprecated and will be removed in a future release. To remove this warning, do the following: 1) Pass option use_label_encoder=False when constructing XGBClassifier object; and 2) Encode your labels (y) as integers starting with 0, i.e. 0, 1, 2, ..., [num_class - 1].\n",
      "  warnings.warn(label_encoder_deprecation_msg, UserWarning)\n"
     ]
    },
    {
     "name": "stdout",
     "output_type": "stream",
     "text": [
      "[00:01:04] WARNING: C:\\Windows\\Temp\\abs_557yfx631l\\croots\\recipe\\xgboost-split_1659548953302\\work\\src\\learner.cc:1115: Starting in XGBoost 1.3.0, the default evaluation metric used with the objective 'binary:logistic' was changed from 'error' to 'logloss'. Explicitly set eval_metric if you'd like to restore the old behavior.\n",
      "Accuracy of XGBoost Algo: 99.73%\n"
     ]
    }
   ],
   "source": [
    "#XGBoost\n",
    "from xgboost import XGBClassifier\n",
    "\n",
    "clf = XGBClassifier(random_state=42, seed=2, colsample_bytree=0.6, subsample=0.7)\n",
    "\n",
    "pipe = Pipeline([('Cvect', CountVectorizer()), ('Tfidf', TfidfTransformer()), ('Model', clf)])\n",
    "\n",
    "Model = pipe.fit(x_train, y_train)\n",
    "Pred = Model.predict(x_test)\n",
    "\n",
    "print(\"Accuracy of XGBoost Algo: {}%\".format(round(accuracy_score(Pred, y_test)*100, 2)))"
   ]
  },
  {
   "cell_type": "code",
   "execution_count": 168,
   "id": "f0bdb218",
   "metadata": {},
   "outputs": [
    {
     "name": "stdout",
     "output_type": "stream",
     "text": [
      "Accuracy of PassiveAggressive Algo: 99.6%\n"
     ]
    }
   ],
   "source": [
    "#PassiveAggressiveClassifier\n",
    "\n",
    "from sklearn.linear_model import PassiveAggressiveClassifier\n",
    "\n",
    "clf = PassiveAggressiveClassifier(max_iter = 1000)\n",
    "\n",
    "pipe = Pipeline([('Cvect', CountVectorizer()), ('Tfidf', TfidfTransformer()), ('Model', clf)])\n",
    "\n",
    "Model = pipe.fit(x_train, y_train)\n",
    "Pred = Model.predict(x_test)\n",
    "\n",
    "print(\"Accuracy of PassiveAggressive Algo: {}%\".format(round(accuracy_score(Pred, y_test)*100, 2)))"
   ]
  },
  {
   "cell_type": "code",
   "execution_count": 188,
   "id": "c880fe17",
   "metadata": {},
   "outputs": [],
   "source": [
    "#Dataset2 - For Comparison\n",
    "\n",
    "from sklearn.utils import shuffle\n",
    "dataset_2 = shuffle(dataset_2)\n",
    "dataset_2 = dataset_1.reset_index(drop = True)"
   ]
  },
  {
   "cell_type": "code",
   "execution_count": 189,
   "id": "e9b3cd2c",
   "metadata": {},
   "outputs": [],
   "source": [
    "dataset_2['text'] = dataset_2['text'].str.lower()"
   ]
  },
  {
   "cell_type": "code",
   "execution_count": 190,
   "id": "4be23f38",
   "metadata": {},
   "outputs": [],
   "source": [
    "dataset_2['text'] = dataset_2['text'].astype(str)"
   ]
  },
  {
   "cell_type": "code",
   "execution_count": 191,
   "id": "4c2f036b",
   "metadata": {},
   "outputs": [],
   "source": [
    "def delete_punctuation(text):\n",
    "    total_data = [char for char in text if char not in string.punctuation]\n",
    "    final_str = ''.join(total_data)\n",
    "    return final_str\n",
    "\n",
    "dataset_2['text'] = dataset_2['text'].apply(delete_punctuation)"
   ]
  },
  {
   "cell_type": "code",
   "execution_count": 192,
   "id": "a258227e",
   "metadata": {},
   "outputs": [
    {
     "name": "stderr",
     "output_type": "stream",
     "text": [
      "[nltk_data] Downloading package stopwords to\n",
      "[nltk_data]     C:\\Users\\sobhi\\AppData\\Roaming\\nltk_data...\n",
      "[nltk_data]   Package stopwords is already up-to-date!\n"
     ]
    }
   ],
   "source": [
    "nltk.download('stopwords')\n",
    "from nltk.corpus import stopwords\n",
    "swords = stopwords.words('english')\n",
    "dataset_2['text']  = dataset_2['text'].apply(lambda x: ' '.join([word for word in x.split() if word not in (swords)]))"
   ]
  },
  {
   "cell_type": "code",
   "execution_count": 193,
   "id": "fad2b573",
   "metadata": {},
   "outputs": [],
   "source": [
    "x_train, x_test, y_train, y_test = train_test_split(dataset_2['text'], dataset_2.Class, test_size = 0.3, random_state = 42)"
   ]
  },
  {
   "cell_type": "code",
   "execution_count": 194,
   "id": "129e5896",
   "metadata": {},
   "outputs": [
    {
     "name": "stdout",
     "output_type": "stream",
     "text": [
      "Accuracy of Logistic Regression Algo: 98.75%\n"
     ]
    }
   ],
   "source": [
    "#Logistic_Regression Algo\n",
    "\n",
    "from sklearn.linear_model import LogisticRegression\n",
    "\n",
    "pipe = Pipeline([('Cvect', CountVectorizer()), ('Tfidf', TfidfTransformer()), ('Model', LogisticRegression())])\n",
    "\n",
    "Model = pipe.fit(x_train, y_train)\n",
    "Pred = Model.predict(x_test)\n",
    "\n",
    "print(\"Accuracy of Logistic Regression Algo: {}%\".format(round(accuracy_score(Pred, y_test)*100, 2)))"
   ]
  },
  {
   "cell_type": "code",
   "execution_count": 195,
   "id": "0dbc45c4",
   "metadata": {},
   "outputs": [
    {
     "name": "stdout",
     "output_type": "stream",
     "text": [
      "Accuracy of Decision Tree Algo: 99.65%\n"
     ]
    }
   ],
   "source": [
    "#Decision_Tree\n",
    "from sklearn.tree import DecisionTreeClassifier\n",
    "\n",
    "pipe = Pipeline([('Cvect', CountVectorizer()), ('Tfidf', TfidfTransformer()), ('Model', DecisionTreeClassifier(criterion = 'entropy',max_depth = 20, splitter = 'best', random_state = 42))])\n",
    "\n",
    "Model = pipe.fit(x_train, y_train)\n",
    "Pred = Model.predict(x_test)\n",
    "\n",
    "print(\"Accuracy of Decision Tree Algo: {}%\".format(round(accuracy_score(Pred, y_test)*100, 2)))"
   ]
  },
  {
   "cell_type": "code",
   "execution_count": 196,
   "id": "cafbefca",
   "metadata": {},
   "outputs": [
    {
     "name": "stdout",
     "output_type": "stream",
     "text": [
      "Accuracy of Random Forest Algo: 98.92%\n"
     ]
    }
   ],
   "source": [
    "#RandomForest\n",
    "\n",
    "from sklearn.ensemble import RandomForestClassifier\n",
    "\n",
    "pipe = Pipeline([('Cvect', CountVectorizer()), ('Tfidf', TfidfTransformer()), ('Model', RandomForestClassifier(n_estimators = 50, criterion = 'entropy'))])\n",
    "\n",
    "Model = pipe.fit(x_train, y_train)\n",
    "Pred = Model.predict(x_test)\n",
    "\n",
    "print(\"Accuracy of Random Forest Algo: {}%\".format(round(accuracy_score(Pred, y_test)*100, 2)))"
   ]
  },
  {
   "cell_type": "code",
   "execution_count": 197,
   "id": "fbf132ee",
   "metadata": {},
   "outputs": [
    {
     "name": "stdout",
     "output_type": "stream",
     "text": [
      "Accuracy of Naive Bayes Algo: 94.95%\n"
     ]
    }
   ],
   "source": [
    "#NaiveBayes\n",
    "from sklearn.naive_bayes import MultinomialNB\n",
    "\n",
    "NB_classifier = MultinomialNB()\n",
    "pipe = Pipeline([('Cvect', CountVectorizer()), ('Tfidf', TfidfTransformer()), ('Model', NB_classifier)])\n",
    "\n",
    "Model = pipe.fit(x_train, y_train)\n",
    "Pred = Model.predict(x_test)\n",
    "\n",
    "print(\"Accuracy of Naive Bayes Algo: {}%\".format(round(accuracy_score(Pred, y_test)*100, 2)))"
   ]
  },
  {
   "cell_type": "code",
   "execution_count": 198,
   "id": "c6288d13",
   "metadata": {},
   "outputs": [
    {
     "name": "stderr",
     "output_type": "stream",
     "text": [
      "C:\\Users\\sobhi\\anaconda3\\lib\\site-packages\\xgboost\\sklearn.py:1224: UserWarning: The use of label encoder in XGBClassifier is deprecated and will be removed in a future release. To remove this warning, do the following: 1) Pass option use_label_encoder=False when constructing XGBClassifier object; and 2) Encode your labels (y) as integers starting with 0, i.e. 0, 1, 2, ..., [num_class - 1].\n",
      "  warnings.warn(label_encoder_deprecation_msg, UserWarning)\n"
     ]
    },
    {
     "name": "stdout",
     "output_type": "stream",
     "text": [
      "[01:53:57] WARNING: C:\\Windows\\Temp\\abs_557yfx631l\\croots\\recipe\\xgboost-split_1659548953302\\work\\src\\learner.cc:1115: Starting in XGBoost 1.3.0, the default evaluation metric used with the objective 'binary:logistic' was changed from 'error' to 'logloss'. Explicitly set eval_metric if you'd like to restore the old behavior.\n",
      "Accuracy of XGBoost Algo: 99.73%\n"
     ]
    }
   ],
   "source": [
    "#XGBoost\n",
    "from xgboost import XGBClassifier\n",
    "\n",
    "clf = XGBClassifier(random_state=42, seed=2, colsample_bytree=0.6, subsample=0.7)\n",
    "\n",
    "pipe = Pipeline([('Cvect', CountVectorizer()), ('Tfidf', TfidfTransformer()), ('Model', clf)])\n",
    "\n",
    "Model = pipe.fit(x_train, y_train)\n",
    "Pred = Model.predict(x_test)\n",
    "\n",
    "print(\"Accuracy of XGBoost Algo: {}%\".format(round(accuracy_score(Pred, y_test)*100, 2)))"
   ]
  },
  {
   "cell_type": "code",
   "execution_count": 199,
   "id": "b5ca92f5",
   "metadata": {},
   "outputs": [
    {
     "name": "stdout",
     "output_type": "stream",
     "text": [
      "Accuracy of PassiveAggressive Algo: 99.61%\n"
     ]
    }
   ],
   "source": [
    "#PassiveAggressiveClassifier\n",
    "\n",
    "from sklearn.linear_model import PassiveAggressiveClassifier\n",
    "\n",
    "clf = PassiveAggressiveClassifier(max_iter = 1000)\n",
    "\n",
    "pipe = Pipeline([('Cvect', CountVectorizer()), ('Tfidf', TfidfTransformer()), ('Model', clf)])\n",
    "\n",
    "Model = pipe.fit(x_train, y_train)\n",
    "Pred = Model.predict(x_test)\n",
    "\n",
    "print(\"Accuracy of PassiveAggressive Algo: {}%\".format(round(accuracy_score(Pred, y_test)*100, 2)))"
   ]
  }
 ],
 "metadata": {
  "kernelspec": {
   "display_name": "Python 3 (ipykernel)",
   "language": "python",
   "name": "python3"
  },
  "language_info": {
   "codemirror_mode": {
    "name": "ipython",
    "version": 3
   },
   "file_extension": ".py",
   "mimetype": "text/x-python",
   "name": "python",
   "nbconvert_exporter": "python",
   "pygments_lexer": "ipython3",
   "version": "3.9.13"
  }
 },
 "nbformat": 4,
 "nbformat_minor": 5
}
